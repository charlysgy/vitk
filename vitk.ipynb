{
 "cells": [
  {
   "cell_type": "markdown",
   "id": "511684e6",
   "metadata": {},
   "source": [
    "Ce notebook n'est qu'un prototype.\n",
    "Le code définitif doit être écrit dans le fichier main.py"
   ]
  },
  {
   "cell_type": "code",
   "execution_count": 1,
   "id": "edb1b6b9",
   "metadata": {},
   "outputs": [],
   "source": [
    "import vtk\n",
    "import itk"
   ]
  },
  {
   "cell_type": "code",
   "execution_count": 2,
   "id": "7bf060da",
   "metadata": {},
   "outputs": [],
   "source": [
    "# Ajouter ici les import nécessaires autres que vtk et itk\n",
    "# import ..."
   ]
  },
  {
   "cell_type": "code",
   "execution_count": 20,
   "id": "0007bed1",
   "metadata": {},
   "outputs": [],
   "source": [
    "# Les chemins relatif qui mènent au data\n",
    "IMAGE1_PATH = \"./Data/case6_gre1.nrrd\"\n",
    "IMAGE2_PATH = \"./Data/case6_gre2.nrrd\""
   ]
  },
  {
   "cell_type": "markdown",
   "id": "6f135b8b",
   "metadata": {},
   "source": [
    "# Chargement des images"
   ]
  },
  {
   "cell_type": "code",
   "execution_count": 21,
   "id": "79af557f",
   "metadata": {},
   "outputs": [],
   "source": [
    "reader = vtk.vtkNrrdReader()\n",
    "reader.SetFileName(IMAGE1_PATH)\n",
    "reader.Update()\n",
    "image1 = reader.GetOutput()\n",
    "\n",
    "reader.SetFileName(IMAGE2_PATH)\n",
    "reader.Update()\n",
    "image2 = reader.GetOutput()"
   ]
  },
  {
   "cell_type": "code",
   "execution_count": 22,
   "id": "384999a8",
   "metadata": {},
   "outputs": [],
   "source": [
    "def visualize_image(image, title=\"Image\"):\n",
    "    extent = image.GetExtent()\n",
    "    middle_slice = (extent[4] + extent[5]) // 2\n",
    "\n",
    "    viewer = vtk.vtkImageViewer2()\n",
    "    viewer.SetInputData(image)\n",
    "    viewer.GetRenderer().SetBackground(0.1, 0.1, 0.1)\n",
    "    viewer.SetSlice(middle_slice)\n",
    "    viewer.SetColorWindow(255)\n",
    "    viewer.SetColorLevel(128)\n",
    "    viewer.Render()\n",
    "    viewer.GetRenderWindow().SetWindowName(title)\n",
    "\n",
    "    interactor = vtk.vtkRenderWindowInteractor()\n",
    "    viewer.SetupInteractor(interactor)\n",
    "    interactor.Initialize()\n",
    "    interactor.Start()\n",
    "\n"
   ]
  },
  {
   "cell_type": "code",
   "execution_count": 23,
   "id": "4843bf6b",
   "metadata": {},
   "outputs": [],
   "source": [
    "visualize_image(image1, title=\"Image 1\")\n",
    "visualize_image(image2, title=\"Image 2\")"
   ]
  },
  {
   "cell_type": "code",
   "execution_count": 17,
   "id": "194c4813",
   "metadata": {},
   "outputs": [],
   "source": [
    "def rigid_registration(fixed_path, moving_path, output_path=None):\n",
    "    fixed = itk.imread(fixed_path, itk.F)\n",
    "    moving = itk.imread(moving_path, itk.F)\n",
    "\n",
    "    TransformType = itk.BSplineTransform[itk.D, 3, 3]\n",
    "    initial_transform = TransformType.New()\n",
    "\n",
    "    MetricType = itk.MattesMutualInformationImageToImageMetricv4[\n",
    "        itk.Image[itk.F, 3], itk.Image[itk.F, 3]\n",
    "    ]\n",
    "    metric = MetricType.New()\n",
    "    metric.SetNumberOfHistogramBins(50)\n",
    "\n",
    "    OptimizerType = itk.RegularStepGradientDescentOptimizerv4[itk.D]\n",
    "    optimizer = OptimizerType.New()\n",
    "    optimizer.SetLearningRate(4.0)\n",
    "    optimizer.SetMinimumStepLength(0.001)\n",
    "    optimizer.SetNumberOfIterations(200)\n",
    "\n",
    "    RegistrationType = itk.ImageRegistrationMethodv4[\n",
    "        itk.Image[itk.F, 3], itk.Image[itk.F, 3]\n",
    "    ]\n",
    "    registration = RegistrationType.New()\n",
    "    registration.SetFixedImage(fixed)\n",
    "    registration.SetMovingImage(moving)\n",
    "    registration.SetInitialTransform(initial_transform)\n",
    "    registration.SetMetric(metric)\n",
    "    registration.SetOptimizer(optimizer)\n",
    "    registration.SetShrinkFactorsPerLevel([4,2,1])\n",
    "    registration.SetSmoothingSigmasPerLevel([2,1,0])\n",
    "\n",
    "    registration.Update()\n",
    "    final_transform = registration.GetTransform()\n",
    "\n",
    "    ResampleFilterType = itk.ResampleImageFilter[\n",
    "        itk.Image[itk.F,3], itk.Image[itk.F,3]\n",
    "    ]\n",
    "    resampler = ResampleFilterType.New()\n",
    "    resampler.SetInput(moving)\n",
    "    resampler.SetTransform(final_transform)\n",
    "    resampler.SetUseReferenceImage(True)\n",
    "    resampler.SetReferenceImage(fixed)\n",
    "    resampler.SetInterpolator(\n",
    "        itk.LinearInterpolateImageFunction[\n",
    "            itk.Image[itk.F,3], itk.D\n",
    "        ].New()\n",
    "    )\n",
    "    resampler.Update()\n",
    "\n",
    "    if output_path:\n",
    "        itk.imwrite(resampler.GetOutput(), output_path)\n",
    "    return final_transform, resampler.GetOutput()"
   ]
  },
  {
   "cell_type": "code",
   "execution_count": null,
   "id": "21488e49",
   "metadata": {},
   "outputs": [],
   "source": [
    "IMAGE_RECALEE_PATH = \"Data/case6_gre2_rigid.nrrd\"\n",
    "\n",
    "transform, moved = rigid_registration(\n",
    "    \"Data/case6_gre1.nrrd\",\n",
    "    \"Data/case6_gre2.nrrd\",\n",
    "    output_path=IMAGE_RECALEE_PATH\n",
    ")\n",
    "\n",
    "itk.imwrite(moved, IMAGE_RECALEE_PATH)"
   ]
  },
  {
   "cell_type": "code",
   "execution_count": null,
   "id": "f0195b26",
   "metadata": {},
   "outputs": [],
   "source": [
    "reader.SetFileName(IMAGE_RECALEE_PATH)\n",
    "reader.Update()\n",
    "image_recalee = reader.GetOutput()\n",
    "visualize_image(image_recalee, \"GRE2 recalée rigide\")\n",
    "visualize_image(image1, \"Image 1\")\n",
    "visualize_image(image2, \"Image 2\")"
   ]
  },
  {
   "cell_type": "markdown",
   "id": "9ca213d0",
   "metadata": {},
   "source": [
    "# Segmentation de la tumeur"
   ]
  },
  {
   "cell_type": "code",
   "execution_count": null,
   "id": "05d545fd",
   "metadata": {},
   "outputs": [],
   "source": []
  },
  {
   "cell_type": "markdown",
   "id": "76a2d628",
   "metadata": {},
   "source": [
    "# Analyse et visualisation des changements"
   ]
  },
  {
   "cell_type": "code",
   "execution_count": null,
   "id": "1ee425f2",
   "metadata": {},
   "outputs": [],
   "source": []
  }
 ],
 "metadata": {
  "kernelspec": {
   "display_name": ".venv",
   "language": "python",
   "name": "python3"
  },
  "language_info": {
   "codemirror_mode": {
    "name": "ipython",
    "version": 3
   },
   "file_extension": ".py",
   "mimetype": "text/x-python",
   "name": "python",
   "nbconvert_exporter": "python",
   "pygments_lexer": "ipython3",
   "version": "3.12.3"
  }
 },
 "nbformat": 4,
 "nbformat_minor": 5
}
