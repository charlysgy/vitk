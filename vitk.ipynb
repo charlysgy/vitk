{
 "cells": [
  {
   "cell_type": "markdown",
   "id": "511684e6",
   "metadata": {},
   "source": [
    "Ce notebook n'est qu'un prototype.\n",
    "Le code définitif doit être écrit dans le fichier main.py"
   ]
  },
  {
   "cell_type": "code",
   "execution_count": 4,
   "id": "edb1b6b9",
   "metadata": {},
   "outputs": [],
   "source": [
    "import vtk\n",
    "import itk"
   ]
  },
  {
   "cell_type": "code",
   "execution_count": 5,
   "id": "7bf060da",
   "metadata": {},
   "outputs": [],
   "source": [
    "# Ajouter ici les import nécessaires autres que vtk et itk\n",
    "# import ..."
   ]
  },
  {
   "cell_type": "code",
   "execution_count": null,
   "id": "0007bed1",
   "metadata": {},
   "outputs": [],
   "source": []
  }
 ],
 "metadata": {
  "kernelspec": {
   "display_name": ".venv",
   "language": "python",
   "name": "python3"
  },
  "language_info": {
   "codemirror_mode": {
    "name": "ipython",
    "version": 3
   },
   "file_extension": ".py",
   "mimetype": "text/x-python",
   "name": "python",
   "nbconvert_exporter": "python",
   "pygments_lexer": "ipython3",
   "version": "3.12.3"
  }
 },
 "nbformat": 4,
 "nbformat_minor": 5
}
